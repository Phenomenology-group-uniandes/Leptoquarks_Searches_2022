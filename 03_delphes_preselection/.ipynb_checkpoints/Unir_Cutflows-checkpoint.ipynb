{
 "cells": [
  {
   "cell_type": "markdown",
   "id": "7e29775a-cea4-4e42-88d6-7cb0733ebee1",
   "metadata": {},
   "source": [
    "$$\\textrm{Joaquin Peñuela Parra}$$\n",
    "$$\\textrm{Universidad de los Andes}$$\n",
    "$$\\textrm{Grupo de Física de Altas Energías: Fenomenología de Partículas}$$\n",
    "\n",
    "$\\textbf{Preliminares}$ \n",
    "\n",
    "Las librerías que se usan aquí son las siguientes: "
   ]
  },
  {
   "cell_type": "code",
   "execution_count": 1,
   "id": "caae7b38-bdde-444f-93d0-cca766551a87",
   "metadata": {},
   "outputs": [],
   "source": [
    "import pandas as pd\n",
    "import numpy as np\n",
    "import os"
   ]
  },
  {
   "cell_type": "code",
   "execution_count": 2,
   "id": "200b298b-5ffb-437b-91ed-070c7f27afb0",
   "metadata": {},
   "outputs": [],
   "source": [
    "Path_delphes_preselection = os.path.dirname(os.path.realpath('Unir_Cutflows.ipynb'))\n",
    "Path_Leptoquarks_searches = os.path.dirname(Path_delphes_preselection)\n",
    "Path_Selected_Events = f'{Path_delphes_preselection}/Selected_Events'\n",
    "Path_Selected_Events_wo_RHC = f'{Path_delphes_preselection}/Selected_Events_wo_RHC'"
   ]
  },
  {
   "cell_type": "code",
   "execution_count": 3,
   "id": "3574961e-4c0b-4b07-a884-2127f4b81022",
   "metadata": {},
   "outputs": [],
   "source": [
    "channels = ['hadronic', 'semileptonic']\n",
    "processes = ['b_b_tau_tau', 'b_tau_tau']\n",
    "signals = ['LQ_LQ','Tau_LQ']\n",
    "Masses = ['0250','0500','0750','1000', '1250', '1500', '1750', '2000', '2250', '2500']"
   ]
  },
  {
   "cell_type": "markdown",
   "id": "5a568c51-d487-4af1-85da-4273673c8d2d",
   "metadata": {},
   "source": [
    "Unamos todos los cutflows"
   ]
  },
  {
   "cell_type": "code",
   "execution_count": 6,
   "id": "98e7fbf3-3faf-46a7-b202-aec485a52e3b",
   "metadata": {},
   "outputs": [],
   "source": [
    "cutflows = {}\n",
    "for process in processes:\n",
    "    for channel in channels:\n",
    "        cutflows[f'{process}_{channel}'] = pd.read_csv(f'{Path_Selected_Events}/Cutflow_{process}_{channel}.csv')\n",
    "        cutflows[f'{process}_{channel}_wo_RHC'] = pd.read_csv(f'{Path_Selected_Events_wo_RHC}/Cutflow_{process}_{channel}.csv')\n",
    "        nuevocutflows = cutflows[f'{process}_{channel}']\n",
    "        nuevocutflows = pd.concat([nuevocutflows, cutflows[f'{process}_{channel}_wo_RHC']], axis = 1)\n",
    "        nuevocutflows.to_csv(f'{Path_Selected_Events}/Cutflow_{process}_{channel}.csv')"
   ]
  }
 ],
 "metadata": {
  "kernelspec": {
   "display_name": "Python 3 (ipykernel)",
   "language": "python",
   "name": "python3"
  },
  "language_info": {
   "codemirror_mode": {
    "name": "ipython",
    "version": 3
   },
   "file_extension": ".py",
   "mimetype": "text/x-python",
   "name": "python",
   "nbconvert_exporter": "python",
   "pygments_lexer": "ipython3",
   "version": "3.10.6"
  }
 },
 "nbformat": 4,
 "nbformat_minor": 5
}
