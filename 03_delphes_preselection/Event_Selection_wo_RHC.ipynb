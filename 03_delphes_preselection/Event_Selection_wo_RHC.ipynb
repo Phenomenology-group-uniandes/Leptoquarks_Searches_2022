{
 "cells": [
  {
   "cell_type": "code",
   "execution_count": null,
   "id": "c01db10d-2248-4ea2-8247-130d71e64467",
   "metadata": {
    "tags": []
   },
   "outputs": [
    {
     "name": "stdout",
     "output_type": "stream",
     "text": [
      "Welcome to JupyROOT 6.22/06\n",
      "LQ_LQ_1250_wo_RHC imported with 16 trees!\n",
      "/Madgraph_Simulations/LeptoQuarks/lq_lq_wo_RHC/M1250_gU1_8Tau_LQ_1000_wo_RHC imported with 16 trees!\n",
      "/Madgraph_Simulations/LeptoQuarks/tau_lq_wo_RHC/M1000_gU1_8\n",
      "Tau_LQ_1250_wo_RHC imported with 16 trees!\n",
      "/Madgraph_Simulations/LeptoQuarks/tau_lq_wo_RHC/M1250_gU1_8LQ_LQ_1000_wo_RHC imported with 16 trees!\n",
      "/Madgraph_Simulations/LeptoQuarks/lq_lq_wo_RHC/M1000_gU1_8============================================================\n",
      "\n",
      "\n",
      "\n",
      "====================================================================================================================================================================================\n",
      "\n",
      "\n"
     ]
    }
   ],
   "source": [
    "import os\n",
    "import time\n",
    "from multiprocessing import Pool\n",
    "from event_selection import eventSelection\n",
    "from event_selection import Quiet\n",
    "from event_selection import get_efficiencies_df\n",
    "\n",
    "signal_list = [ \"Tau_LQ_1000_wo_RHC\" , \"LQ_LQ_1000_wo_RHC\" ]\n",
    "signal_list += [ \"Tau_LQ_1250_wo_RHC\" , \"LQ_LQ_1250_wo_RHC\" ]\n",
    "signal_list += [ \"Tau_LQ_1500_wo_RHC\" , \"LQ_LQ_1500_wo_RHC\" ]\n",
    "signal_list += [ \"Tau_LQ_1750_wo_RHC\" , \"LQ_LQ_1750_wo_RHC\" ]\n",
    "signal_list += [ \"Tau_LQ_2000_wo_RHC\" , \"LQ_LQ_2000_wo_RHC\" ]\n",
    "signal_list += [ \"Tau_LQ_2250_wo_RHC\" , \"LQ_LQ_2250_wo_RHC\" ]\n",
    "signal_list += [ \"Tau_LQ_2500_wo_RHC\" , \"LQ_LQ_2500_wo_RHC\" ]\n",
    "\n",
    "\n",
    "folder_out=os.path.join(\n",
    "    os.getcwd(),\n",
    "    \"Selected_Events_wo_RHC\"\n",
    ")\n",
    "\n",
    "!rm -rf {folder_out}\n",
    "!mkdir -p {folder_out}\n",
    "\n",
    "def mapping(name):\n",
    "    return eventSelection(name,folder_out)\n",
    "\n",
    "with Quiet():\n",
    "    start_time = time.time()\n",
    "    with Pool(4) as p:\n",
    "        goodEvents_dict=dict(p.map(mapping,signal_list))\n",
    "    efficiencies=get_efficiencies_df(goodEvents_dict,folder_out)\n",
    "    elapsed_seconds=(time.time() - start_time)\n",
    "    hours=int(elapsed_seconds/3600)\n",
    "    minutes=int((elapsed_seconds%3600)/60)\n",
    "    seconts=int((elapsed_seconds%3600)%60)\n",
    "    print(\"Done!\")\n",
    "    print(f\"Time elapsed: {hours}h {minutes}m {seconts}s\")"
   ]
  },
  {
   "cell_type": "code",
   "execution_count": null,
   "id": "f44b94bb-323a-4d41-86cc-5c1de9c76556",
   "metadata": {
    "tags": []
   },
   "outputs": [],
   "source": [
    "for signal in goodEvents_dict.keys():\n",
    "    print(\"%\"*60)\n",
    "    print(signal)\n",
    "    print(goodEvents_dict[signal])"
   ]
  },
  {
   "cell_type": "code",
   "execution_count": null,
   "id": "3f0e7508-1f0f-49c7-a9de-98fbfcf9f324",
   "metadata": {
    "tags": []
   },
   "outputs": [],
   "source": [
    "for selection in efficiencies.keys():\n",
    "    print(\"%\"*80)\n",
    "    print(selection)\n",
    "    print(efficiencies[selection])"
   ]
  }
 ],
 "metadata": {
  "kernelspec": {
   "display_name": "Python 3 (ipykernel)",
   "language": "python",
   "name": "python3"
  },
  "language_info": {
   "codemirror_mode": {
    "name": "ipython",
    "version": 3
   },
   "file_extension": ".py",
   "mimetype": "text/x-python",
   "name": "python",
   "nbconvert_exporter": "python",
   "pygments_lexer": "ipython3",
   "version": "3.9.4"
  }
 },
 "nbformat": 4,
 "nbformat_minor": 5
}
