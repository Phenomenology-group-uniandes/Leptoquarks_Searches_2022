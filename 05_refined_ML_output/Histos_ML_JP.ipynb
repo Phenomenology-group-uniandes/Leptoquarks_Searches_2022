{
 "cells": [
  {
   "cell_type": "markdown",
   "id": "789e76ce-4aaf-4210-834d-601c6241c470",
   "metadata": {},
   "source": [
    "$$\\textrm{Joaquin Peñuela Parra}$$\n",
    "$$\\textrm{Universidad de los Andes}$$\n",
    "$$\\textrm{Grupo de Física de Altas Energías: Fenomenología de Partículas}$$\n",
    "\n",
    "$\\textbf{Preliminares}$ \n",
    "\n",
    "Las librerías que se usan aquí son las siguientes: "
   ]
  },
  {
   "cell_type": "code",
   "execution_count": 1,
   "id": "95232805-e6e8-4834-8a71-6801f0ded13a",
   "metadata": {},
   "outputs": [
    {
     "name": "stdout",
     "output_type": "stream",
     "text": [
      "Welcome to JupyROOT 6.26/06\n"
     ]
    }
   ],
   "source": [
    "import os, sys\n",
    "\n",
    "Path_ML_OUTPUT = os.path.dirname(os.path.realpath('Histos_ML_JP.ipynb.ipynb'))\n",
    "Path_Leptoquarks_searches = os.path.dirname(Path_ML_OUTPUT)\n",
    "Path_Pheno_BSM = os.path.dirname(Path_Leptoquarks_searches)\n",
    "\n",
    "sys.path.append(Path_Pheno_BSM) #Permite importar delphes_reader\n",
    "\n",
    "import uproot\n",
    "from ROOT import TFile #Permite guardar y leer los histogramas en un archivo .root\n",
    "\n",
    "from ROOT import TH1F #Permite graficar los histogramas usando ROOT\n",
    "from ROOT import TCanvas #Permite poner los histogramas\n",
    "from ROOT import THStack #Permite graficar varios histogramas al mismo tiempo\n",
    "from ROOT import TLegend #Permite poner legends cuando se sobrelapan histogramas\n",
    "from ROOT import TLatex #Permite poner avisos en Latex en las graficas\n",
    "\n",
    "import pandas as pd\n",
    "\n",
    "from delphes_reader import Quiet\n",
    "\n",
    "events_sub_folder = f'{Path_Leptoquarks_searches}/03_delphes_preselection/Selected_Events' #Carpeta donde están los csv preseleccionados"
   ]
  },
  {
   "cell_type": "markdown",
   "id": "3c20c218-6b4d-4e51-aaa6-34ec07b2758f",
   "metadata": {},
   "source": [
    "Carguemos los histogramas que creo Cristian:"
   ]
  },
  {
   "cell_type": "code",
   "execution_count": 2,
   "id": "e438d260-720b-40bb-92a0-644cf5b69546",
   "metadata": {},
   "outputs": [],
   "source": [
    "Masses = ['1000', '1250', '1500', '1750', '2000', '2250']\n",
    "channels = ['hadronic', 'semileptonic']\n",
    "processes = ['b_b_tau_tau', 'b_tau_tau']\n",
    "\n",
    "signals = ['LQ_LQ','Tau_LQ']\n",
    "bkgs = ['stop','ttbar', 'w_jets', 'ww', 'wz', 'z_jets', 'zz']"
   ]
  },
  {
   "cell_type": "code",
   "execution_count": 3,
   "id": "8445b8c1-1e6a-4b2c-b371-53a5f012efdb",
   "metadata": {},
   "outputs": [],
   "source": [
    "with Quiet():\n",
    "\n",
    "    Histogramas_signal = {}\n",
    "    Histogramas_bkg = {}\n",
    "\n",
    "    for M in Masses:\n",
    "        Histogramas_signal[M] = {}       \n",
    "        Histogramas_bkg[M] = {}        \n",
    "        \n",
    "        for process in processes:\n",
    "            Histogramas_signal[M][process] = {}\n",
    "            Histogramas_bkg[M][process] = {}\n",
    "            \n",
    "            for channel in channels:\n",
    "                Histogramas_signal[M][process][channel] = {}\n",
    "                Histogramas_bkg[M][process][channel] = {}\n",
    "\n",
    "                ruta = f'{Path_ML_OUTPUT}/MLQ_{M}/{process}_{channel}/Gradient_Boosting.root'\n",
    "\n",
    "                file = uproot.open(ruta) \n",
    "                histogramas = file.keys()\n",
    "                file.close()\n",
    "\n",
    "                ROOT_File = TFile.Open(ruta, 'READ')\n",
    "\n",
    "                for histo in histogramas:   \n",
    "                    h = ROOT_File.Get(histo)\n",
    "                    h.SetDirectory(0)\n",
    "                    h.Rebin(2)\n",
    "\n",
    "                    if((channel in histo) and (process in histo)): \n",
    "                        nombre_histo = histo.replace(channel, '').replace(process, '').replace(M, '').replace('_','').replace(';1','').replace('LQLQ','LQ_LQ').replace('TauLQ', 'Tau_LQ').replace('jets', '_jets')\n",
    "                        if nombre_histo in signals: Histogramas_signal[M][process][channel][nombre_histo] = h\n",
    "                        else: Histogramas_bkg[M][process][channel][nombre_histo] = h\n",
    "                ROOT_File.Close()"
   ]
  },
  {
   "cell_type": "markdown",
   "id": "3f3d9a82-d38d-4219-932e-8bce9d63e7f2",
   "metadata": {},
   "source": [
    "Carguemos ttbar para b_tau_tau semileptonic ww debido a que el que generó Cristian tenía un error:"
   ]
  },
  {
   "cell_type": "code",
   "execution_count": 4,
   "id": "391e4cf3-d02d-43e7-81d0-46a158f8edc8",
   "metadata": {},
   "outputs": [],
   "source": [
    "with Quiet():\n",
    "    for M in Masses:       \n",
    "        histo_ejemplo = Histogramas_bkg[M]['b_tau_tau']['semileptonic']['ww']\n",
    "\n",
    "        h = TH1F('sum', 'sum', histo_ejemplo.GetNbinsX(),0.0, 1)\n",
    "\n",
    "        data = pd.read_csv(f'{Path_Leptoquarks_searches}/04_ML_classification/MLQ_{M}/b_tau_tau_semileptonic/Gradient_Boosting_ttbar.csv')\n",
    "        valores = data['scores']\n",
    "\n",
    "        for valor in valores:\n",
    "            h.Fill(valor)\n",
    "\n",
    "        h.SetDirectory(0)\n",
    "        Histogramas_bkg[M]['b_tau_tau']['semileptonic']['ttbar'] = h"
   ]
  },
  {
   "cell_type": "markdown",
   "id": "029ea7e6-73e3-4487-9153-5e9a1314b1fe",
   "metadata": {},
   "source": [
    "Grafiquemos uno para probar:"
   ]
  },
  {
   "cell_type": "code",
   "execution_count": 5,
   "id": "035c6026-03dd-4354-87b5-0f6261c3ff09",
   "metadata": {},
   "outputs": [],
   "source": [
    "canvas = TCanvas(\"Canvas\", \" \", 600, 400)"
   ]
  },
  {
   "cell_type": "code",
   "execution_count": 6,
   "id": "be143eb8-4924-4b64-be4a-b04eaf09150d",
   "metadata": {},
   "outputs": [
    {
     "data": {
      "image/png": "[encoded data removed]",
      "text/plain": [
       "<IPython.core.display.Image object>"
      ]
     },
     "metadata": {},
     "output_type": "display_data"
    }
   ],
   "source": [
    "Histogramas_signal['1000']['b_b_tau_tau']['hadronic']['Tau_LQ'].Draw('hist')\n",
    "\n",
    "canvas.Draw()"
   ]
  },
  {
   "cell_type": "markdown",
   "id": "05e9d7c6-a606-432a-8879-ac4de5c70e1a",
   "metadata": {},
   "source": [
    "Antes de hacer el overlap es necesario definir las funciones que permiten calcular el número de eventos, sumar histogramas y hacer el overlap de los histogramas"
   ]
  },
  {
   "cell_type": "code",
   "execution_count": 7,
   "id": "75be9a71-9052-44fa-a495-5c5f8adabe15",
   "metadata": {},
   "outputs": [],
   "source": [
    "def N_events(process, channel, signal):\n",
    "    \n",
    "    path_csv = f'{events_sub_folder}/Cutflow_{process}_{channel}.csv'\n",
    "    cutflow = pd.read_csv(path_csv)\n",
    "    \n",
    "    return cutflow[signal][cutflow.shape[0]-1]\n",
    "\n",
    "def sum_histos(histo_list):\n",
    "    result = TH1F('sum', 'sum', histo_list[0].GetNbinsX(),0.0,histo_list[0].GetBinWidth(0)*histo_list[0].GetNbinsX())\n",
    "    result.SetDirectory(0)\n",
    "    \n",
    "    for histo in histo_list:\n",
    "        for i in range(histo.GetNbinsX()):\n",
    "            #Sumemos los bines\n",
    "            sum_ = result.GetBinContent(i + 1)\n",
    "            sum_ = sum_ + histo.GetBinContent(i + 1)\n",
    "            result.SetBinContent(i+1, sum_)\n",
    "            #Sumemos el error\n",
    "            err_ = result.GetBinError(i + 1)\n",
    "            err_ = err_ + histo.GetBinError(i+1)\n",
    "            result.SetBinError(i+1, err_)\n",
    "        \n",
    "    return result"
   ]
  },
  {
   "cell_type": "markdown",
   "id": "1352f012-b525-4d1a-9329-1a4a2ea20883",
   "metadata": {},
   "source": [
    "Definamos la función para hacer el overlap"
   ]
  },
  {
   "cell_type": "code",
   "execution_count": 8,
   "id": "540e6970-b4c8-4799-becd-03d0ce27a8f2",
   "metadata": {},
   "outputs": [],
   "source": [
    "def Overlap_Histos(histogramas_signal, histogramas_bkg, process, channel,\n",
    "                   signals, bkgs, Titulo, M, ignorar = '', alpha_bkg = 0.05, alpha_signal = 0.05, \n",
    "                   Stack = False, Log_Y = False, Log_X = True,Grid = False):\n",
    "    \n",
    "    #Si Stack es False -> Se normaliza por unidad de area\n",
    "    #Si Stack es True -> Se normaliza según el número de eventos\n",
    "    \n",
    "    canvas = TCanvas(Titulo, \" \", 800, 600)\n",
    "    \n",
    "    #legend = TLegend(0.9,.4,1,.89) #Afuera de la grafica\n",
    "    legend = TLegend(0.48,.75,0.87,.89)\n",
    "    legend.SetNColumns(4) \n",
    "    legend.SetHeader('M_{U}' + f'= {int(M)/1000} TeV' + ', g_{U} = 1.8' + ', #beta_{R}^{b #tau} = -1',\"C\")\n",
    "    legend.SetLineWidth(1)\n",
    "    \n",
    "    #legend.SetFillStyle(0) #Así la ventana con los legends es transparente\n",
    "\n",
    "    Histos = THStack('hist', Titulo)\n",
    "        \n",
    "    for i in range(len(bkgs.keys())):\n",
    "            combinacion_bkg = list(bkgs.keys())[i]\n",
    "            bkg_list = bkgs[combinacion_bkg]\n",
    "            \n",
    "            histo_list = []\n",
    "            for bkg in bkg_list:\n",
    "                if (bkg != ignorar):\n",
    "                    if (histogramas_bkg[M][process][channel][bkg] != {}):\n",
    "                        h = histogramas_bkg[M][process][channel][bkg]\n",
    "                        h.Scale(N_events(process, channel, bkg)/h.Integral())\n",
    "                        histo_list.append(h)\n",
    "                \n",
    "            histo_Nevents = sum_histos(histo_list)\n",
    "            \n",
    "            histo_normalizado = sum_histos(histo_list)\n",
    "            histo_normalizado.Scale(1.0/histo_normalizado.Integral())\n",
    "            \n",
    "            if (Stack): histo = histo_Nevents\n",
    "            else: histo = histo_normalizado\n",
    "            \n",
    "            color = len(signals.keys()) + i + 1\n",
    "            if color == 7: color = 3\n",
    "                \n",
    "            histo.SetLineColor(color)\n",
    "            histo.SetFillColorAlpha(color, alpha_bkg)\n",
    "            histo.SetLineWidth(2)\n",
    "            histo.SetDirectory(0)     \n",
    "            \n",
    "            Histos.Add(histo)\n",
    "            legend.AddEntry(histo,combinacion_bkg)\n",
    "            \n",
    "    for j in range(len(signals.keys())):\n",
    "            combinacion_signal = list(signals.keys())[j]\n",
    "            signal_list = signals[combinacion_signal]\n",
    "            \n",
    "            histo_list = []\n",
    "            for signal in signal_list:\n",
    "                if (signal != ignorar):\n",
    "                    if (histogramas_signal[M][process][channel][signal] != {}):\n",
    "                        h = histogramas_signal[M][process][channel][signal]\n",
    "                        h.Scale(N_events(process, channel, f'{signal}_{M}')/h.Integral())\n",
    "                        histo_list.append(h)\n",
    "                \n",
    "            histo_Nevents = sum_histos(histo_list)\n",
    "            \n",
    "            histo_normalizado = sum_histos(histo_list)\n",
    "            histo_normalizado.Scale(1.0/histo_normalizado.Integral())\n",
    "            \n",
    "            if (Stack): histo = histo_Nevents\n",
    "            else: histo = histo_normalizado\n",
    "            \n",
    "            color = j + 1\n",
    "            if color == 3: color = 7\n",
    "            \n",
    "            histo.SetLineColor(color)\n",
    "            histo.SetFillColorAlpha(color, alpha_signal)\n",
    "            histo.SetLineStyle(2)\n",
    "            histo.SetLineWidth(2)\n",
    "            histo.SetDirectory(0)     \n",
    "            \n",
    "            Histos.Add(histo)\n",
    "            legend.AddEntry(histo,combinacion_signal)\n",
    "            \n",
    "    if Log_Y: canvas.SetLogy()\n",
    "    if Log_X: canvas.SetLogx()\n",
    "    if Grid: canvas.SetGrid()\n",
    "    \n",
    "    eje_x = 'XGB-Output'\n",
    "    \n",
    "    if Stack:\n",
    "        Histos.Draw(\"hist\")\n",
    "        Histos.SetTitle(f'{Titulo}; {eje_x}; Events')  \n",
    "        \n",
    "    else: \n",
    "        Histos.Draw(\"histnostack\")\n",
    "        Histos.SetTitle(f'{Titulo}; {eje_x}; A.U')  \n",
    "    \n",
    "    latex = TLatex()\n",
    "    latex.SetNDC()\n",
    "    latex.SetTextSize(0.04)\n",
    "    latex.DrawLatex(0.76,0.91,'#sqrt{s} = 13 TeV')\n",
    "    #latex.DrawLatex(0.61,0.91,'#sqrt{s} = 13 TeV, L = 137 fb^{-1}')\n",
    "\n",
    "    \n",
    "    canvas.Draw()\n",
    "    legend.Draw('same')\n",
    "    \n",
    "    #Histos.GetXaxis().SetLimits(0.0, float(M)*3)  \n",
    "    \n",
    "    return Histos, canvas, legend"
   ]
  },
  {
   "cell_type": "markdown",
   "id": "f18fa54f-14cf-4597-92db-b53d83988a43",
   "metadata": {},
   "source": [
    "Probemos para M = 1500"
   ]
  },
  {
   "cell_type": "code",
   "execution_count": 9,
   "id": "a52ecc81-c7f3-44b2-84df-a6f4b93cf855",
   "metadata": {},
   "outputs": [
    {
     "data": {
      "image/png": "[encoded data removed]",
      "text/plain": [
       "<IPython.core.display.Image object>"
      ]
     },
     "metadata": {},
     "output_type": "display_data"
    }
   ],
   "source": [
    "Histos, canvas, legend= Overlap_Histos(histogramas_signal = Histogramas_signal, \n",
    "                                       histogramas_bkg = Histogramas_bkg, \n",
    "                                       process = 'b_tau_tau', \n",
    "                                       channel = 'semileptonic',\n",
    "                                       signals = {'Lq Lq': ['LQ_LQ'], '#tau Lq': ['Tau_LQ'], 'Combined':  ['LQ_LQ', 'Tau_LQ']}, \n",
    "                                       bkgs = {'t#bar{t}': ['ttbar'], 'stop': ['stop'], 'Diboson': ['ww', 'wz', 'zz'], 'V+jets': ['w_jets', 'z_jets']}, \n",
    "                                       Titulo = '', \n",
    "                                       M = '1500', \n",
    "                                       ignorar = '', \n",
    "                                       alpha_bkg = 0, alpha_signal = 0.05, \n",
    "                                       Stack = False, Log_Y = True, Log_X = False,Grid = False)"
   ]
  },
  {
   "cell_type": "markdown",
   "id": "461d4ad8-8164-4695-a790-cdea946e2eb1",
   "metadata": {},
   "source": [
    "Ahora generemos todos los .pdf"
   ]
  },
  {
   "cell_type": "code",
   "execution_count": 10,
   "id": "2acd2f53-d544-4e89-b9e3-5bf4cbe19d95",
   "metadata": {},
   "outputs": [],
   "source": [
    "!rm -rf Histos_Overlap\n",
    "!mkdir -p Histos_Overlap"
   ]
  },
  {
   "cell_type": "code",
   "execution_count": 11,
   "id": "edc31e85-c5dc-4d55-a693-115584279f37",
   "metadata": {},
   "outputs": [
    {
     "data": {
      "image/png": "[encoded data removed]",
      "text/plain": [
       "<IPython.core.display.Image object>"
      ]
     },
     "metadata": {},
     "output_type": "display_data"
    }
   ],
   "source": [
    "with Quiet():\n",
    "\n",
    "    for Masa in Masses:\n",
    "        !mkdir -p Histos_Overlap/MLQ_{Masa}\n",
    "        for proceso in processes:\n",
    "            for canal in channels:\n",
    "                \n",
    "                if (proceso == 'b_tau_tau' and canal == 'hadronic'): titulo = 'b #tau_{h} #tau_{h}'\n",
    "                if (proceso == 'b_b_tau_tau' and canal == 'hadronic'): titulo = 'b b #tau_{h} #tau_{h}'\n",
    "                if (proceso == 'b_tau_tau' and canal == 'semileptonic'): titulo = 'b #tau_{h} #tau_{lep}  '\n",
    "                if (proceso == 'b_b_tau_tau' and canal == 'semileptonic'): titulo = 'b b #tau_{h} #tau_{lep}  '                \n",
    "                \n",
    "                path = f'/MLQ_{Masa}/ML_{proceso}_{canal}_wRHC'\n",
    "\n",
    "                Histos, canvas, legend= Overlap_Histos(histogramas_signal = Histogramas_signal, \n",
    "                                                       histogramas_bkg = Histogramas_bkg, \n",
    "                                                       process = proceso, \n",
    "                                                       channel = canal,\n",
    "                                                       signals = {'Lq Lq': ['LQ_LQ'], '#tau Lq': ['Tau_LQ'], 'Combined':  ['LQ_LQ', 'Tau_LQ']}, \n",
    "                                                       bkgs = {'t#bar{t}': ['ttbar'], 'stop': ['stop'], 'Diboson': ['ww', 'wz', 'zz'], 'V+jets': ['w_jets', 'z_jets']}, \n",
    "                                                       Titulo = titulo, \n",
    "                                                       M = Masa, \n",
    "                                                       ignorar = '', \n",
    "                                                       alpha_bkg = 0, alpha_signal = 0.05, \n",
    "                                                       Stack = False, Log_Y = True, Log_X = False,Grid = False)\n",
    "\n",
    "                canvas.Print(f'Histos_Overlap/{path}.pdf')"
   ]
  },
  {
   "cell_type": "markdown",
   "id": "28a8a46d-314f-40c0-b71b-1d2bb04f105e",
   "metadata": {},
   "source": [
    "Faltaría hacer esto mismo para el caso woRCH"
   ]
  },
  {
   "cell_type": "code",
   "execution_count": null,
   "id": "898c015a-9d81-4571-93ea-467178e26bb1",
   "metadata": {},
   "outputs": [],
   "source": []
  }
 ],
 "metadata": {
  "kernelspec": {
   "display_name": "Python 3 (ipykernel)",
   "language": "python",
   "name": "python3"
  },
  "language_info": {
   "codemirror_mode": {
    "name": "ipython",
    "version": 3
   },
   "file_extension": ".py",
   "mimetype": "text/x-python",
   "name": "python",
   "nbconvert_exporter": "python",
   "pygments_lexer": "ipython3",
   "version": "3.10.6"
  }
 },
 "nbformat": 4,
 "nbformat_minor": 5
}
