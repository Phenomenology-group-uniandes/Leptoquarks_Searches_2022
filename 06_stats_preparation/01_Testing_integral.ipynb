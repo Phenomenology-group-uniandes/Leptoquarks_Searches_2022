{
 "cells": [
  {
   "cell_type": "code",
   "execution_count": 1,
   "id": "108661da-70dc-4956-819c-adbcc516c75f",
   "metadata": {},
   "outputs": [
    {
     "name": "stdout",
     "output_type": "stream",
     "text": [
      "Welcome to JupyROOT 6.26/06\n"
     ]
    }
   ],
   "source": [
    "import os\n",
    "from pathlib import Path\n",
    "from ROOT import TFile, TMath, TF1, gROOT, TCanvas, TGraph, TGraphErrors, TH1F"
   ]
  },
  {
   "cell_type": "code",
   "execution_count": 2,
   "id": "f89c4513-c437-43f8-a73f-59ff54a64a45",
   "metadata": {},
   "outputs": [],
   "source": [
    "def getall(d, basepath=\"/\"):\n",
    "    \"Generator function to recurse into a ROOT file/dir and yield (path, obj) pairs\"\n",
    "    for key in d.GetListOfKeys():\n",
    "        kname = key.GetName()\n",
    "        if key.IsFolder():\n",
    "            # TODO: -> \"yield from\" in Py3\n",
    "            for i in getall(d.Get(kname), basepath+kname+\"/\"):\n",
    "                yield i\n",
    "        else:\n",
    "            yield d.Get(kname)\n"
   ]
  },
  {
   "cell_type": "code",
   "execution_count": 3,
   "id": "54310fa3-af5a-480a-83cd-25996355a635",
   "metadata": {},
   "outputs": [
    {
     "data": {
      "text/plain": [
       "['/home/crisfer2694/Desktop/Pheno_BSM/Leptoquarks_searches/04_ML_classification/MLQ_1500/b_tau_tau_hadronic/Gradient_Boosting.root']"
      ]
     },
     "execution_count": 3,
     "metadata": {},
     "output_type": "execute_result"
    }
   ],
   "source": [
    "folder_out=os.path.join(\n",
    "    os.path.dirname(os.getcwd()),\n",
    "    \"04_ML_classification\"\n",
    ")\n",
    "path_root = Path(folder_out)\n",
    "files=[root_file.as_posix() for root_file in path_root.glob('**/*.root')]\n",
    "files"
   ]
  },
  {
   "cell_type": "code",
   "execution_count": null,
   "id": "49680124-2526-4977-919b-6d6f7e06020c",
   "metadata": {},
   "outputs": [],
   "source": []
  },
  {
   "cell_type": "code",
   "execution_count": 4,
   "id": "53accbbe-340a-4064-9be1-827892b3f5b6",
   "metadata": {},
   "outputs": [
    {
     "name": "stdout",
     "output_type": "stream",
     "text": [
      "z_jets_b_tau_tau_hadronic\n"
     ]
    },
    {
     "data": {
      "image/png": "[encoded data removed]",
      "text/plain": [
       "<IPython.core.display.Image object>"
      ]
     },
     "metadata": {},
     "output_type": "display_data"
    }
   ],
   "source": [
    "c1=TCanvas(\"\",\"\",800,600)\n",
    "c1.SetLogy()\n",
    "a=1\n",
    "x=[]\n",
    "y=[]\n",
    "err_y=[]\n",
    "for file in files:\n",
    "    f=TFile(file)\n",
    "    for h in getall(f):\n",
    "        if not ( \"z\" in h.GetName()): continue\n",
    "        #f1=TF1(\"f1\",\"[0]*TMath::Landau(x,[1],[2])\",0.5,1.)\n",
    "        #f1=TF1(\"f1\",\"[0]*TMath::Landau([3]*x*x*x*x*x*x,[1],[2])\",0.,1.)\n",
    "        #f1.SetParameter(0,1)\n",
    "        #f1.SetParameter(1,0)\n",
    "        #f1.SetParameter(2,1)\n",
    "        #f1.SetParameter(6,1)\n",
    "        h.Scale(1.0/h.Integral())\n",
    "        #h.Fit(\"f1\")\n",
    "        h.Draw()\n",
    "        print(h.GetName())\n",
    "        sum_=0.\n",
    "        erry=0.0\n",
    "        dx=1./h.GetNbinsX()\n",
    "        for i in range (h.GetNbinsX()):\n",
    "            if h.GetBinContent(i+1) !=0 :\n",
    "                x.append((i+1)*(1./h.GetNbinsX()))\n",
    "                sum_+=h.GetBinContent(i+1)\n",
    "                erry+=h.GetBinError(i+1)\n",
    "                y.append(sum_)\n",
    "                err_y.append(erry)\n",
    "        break\n",
    "    break\n",
    "if x[len(x)-1]<1 :\n",
    "    err_y.append(err_y[len(x)-1])\n",
    "    x.append(1.)\n",
    "    y.append(1.)\n",
    "    \n",
    "\n",
    "err_x=[dx/2 for i in x]\n",
    "c1.Draw()"
   ]
  },
  {
   "cell_type": "code",
   "execution_count": 5,
   "id": "e3fd6b2e-3169-44cd-9f26-9547401f0145",
   "metadata": {},
   "outputs": [],
   "source": [
    "import numpy as np\n",
    "from numpy import array\n",
    "from scipy import interpolate\n",
    "from scipy.interpolate import PchipInterpolator\n",
    "from scipy.special import logit, expit\n",
    "import math\n",
    "import numpy \n",
    "x=np.array(x)\n",
    "err_y=array(err_y)\n",
    "y=array(y)\n",
    "err_x=array(err_x)\n",
    "y_sup=y+err_y\n",
    "y_inf=y-err_y\n",
    "\n",
    "y_sup=y_sup/max(y_sup)\n",
    "y_inf=y_inf/max(y_inf)\n",
    "\n",
    "\n",
    "\"\"\"\n",
    "y=expit(y)\n",
    "y_inf=expit(y_inf)\n",
    "y_sup=expit(y_sup)\n",
    "\n",
    "y=-np.log(y)\n",
    "y_inf=-np.log(y_inf)\n",
    "y_sup=-np.log(y_sup)\n",
    "\"\"\"\n",
    "interp_func_sup=PchipInterpolator(x, y_sup)\n",
    "interp_func_inf=PchipInterpolator(x, y_inf)\n",
    "\n"
   ]
  },
  {
   "cell_type": "code",
   "execution_count": 6,
   "id": "3355aa71-c370-4475-81ec-f016b41c5669",
   "metadata": {},
   "outputs": [],
   "source": [
    "interp_func = PchipInterpolator(x, y)\n",
    "new_x = np.arange(0.0, 1.00, 1./10000.)\n",
    "new_y_sup = interp_func_sup(new_x)\n",
    "new_y_inf = interp_func_inf(new_x)"
   ]
  },
  {
   "cell_type": "code",
   "execution_count": 7,
   "id": "3822aa8c-8c3e-4360-af10-7a0f41dfcdad",
   "metadata": {},
   "outputs": [],
   "source": [
    "\n",
    "#tck = interpolate.splrep(x, y, s=0)\n",
    "#new_y = interpolate.splev(new_x, tck, der=0)\n",
    "#def interp_func(x):\n",
    "#    return interpolate.splev(x, tck, der=0)"
   ]
  },
  {
   "cell_type": "code",
   "execution_count": 8,
   "id": "d4ced317-d8d0-4e93-b300-98700a9647e1",
   "metadata": {},
   "outputs": [],
   "source": [
    "#(new_x,new_y)"
   ]
  },
  {
   "cell_type": "code",
   "execution_count": 10,
   "id": "a78029e4-f383-41d2-a4d7-3affcbb99513",
   "metadata": {},
   "outputs": [
    {
     "name": "stderr",
     "output_type": "stream",
     "text": [
      "Warning in <TCanvas::Constructor>: Deleting canvas with same name: c1\n"
     ]
    },
    {
     "data": {
      "image/png": "[encoded data removed]",
      "text/plain": [
       "<IPython.core.display.Image object>"
      ]
     },
     "metadata": {},
     "output_type": "display_data"
    }
   ],
   "source": [
    "c1=TCanvas(\"c1\",\"\",800,600)\n",
    "#c1.SetLogy()\n",
    "p=\"[0]*x\"\n",
    "#f1=TF1(\"f1\",f\"-4+log({p}/(1-{p}))\",0.0001,0.9999)\n",
    "#f1.SetParameter(0,1)\n",
    "#f1.SetParameter(1,1)\n",
    "g=TGraphErrors(len(x),x,y)#,err_x,err_y)\n",
    "g.SetMinimum(9e-1)\n",
    "#g.SetMaximum(1)\n",
    "g.SetMarkerStyle(8)\n",
    "#g.Fit(\"f1\")\n",
    "#f1.SetParameter(0,1)\n",
    "g2=TGraph(len(new_x),new_x,new_y_sup)\n",
    "g2.SetLineColor(2)\n",
    "g3=TGraph(len(new_x),new_x,new_y_inf)\n",
    "g3.SetLineColor(2)\n",
    "g.Draw(\"ap\")\n",
    "g2.Draw(\"l\")\n",
    "g3.Draw(\"l\")\n",
    "c1.Draw()"
   ]
  },
  {
   "cell_type": "code",
   "execution_count": 11,
   "id": "8f8d3c21-588e-48dd-a804-d098034aa1d0",
   "metadata": {},
   "outputs": [],
   "source": [
    "import random\n",
    "import time\n",
    "np.random.seed()\n",
    "X=x\n",
    "Y=[np.random.uniform(a, b) for a,b in zip(new_y_inf,new_y_sup)]"
   ]
  },
  {
   "cell_type": "code",
   "execution_count": 12,
   "id": "8fab3d1f-8f65-491e-8c8b-823f8b0d1c5b",
   "metadata": {},
   "outputs": [
    {
     "data": {
      "image/png": "[encoded data removed]",
      "text/plain": [
       "<IPython.core.display.Image object>"
      ]
     },
     "metadata": {},
     "output_type": "display_data"
    }
   ],
   "source": [
    "n_bins=200\n",
    "hist_test=TH1F(\"test\",\"test\",n_bins,0.,1.)\n",
    "\n",
    "for bin_ in range(hist_test.GetNbinsX()):\n",
    "    hist_test.SetBinContent(bin_+1,interp_func((bin_+1)/n_bins)-interp_func((bin_)/n_bins))\n",
    "\n",
    "\n",
    "hist_test.Scale(1./hist_test.Integral())\n",
    "hist_test.SetLineColor(2)\n",
    "h.Scale(hist_test.Integral()/h.Integral())\n",
    "h.Draw(\"HIST\")\n",
    "hist_test.Draw(\"HISTsame\")\n",
    "\n",
    "c1.Draw()\n"
   ]
  },
  {
   "cell_type": "code",
   "execution_count": null,
   "id": "c62552fb-264a-4b24-bdf5-4f7ab7fcead9",
   "metadata": {},
   "outputs": [],
   "source": []
  }
 ],
 "metadata": {
  "kernelspec": {
   "display_name": "Python 3 (ipykernel)",
   "language": "python",
   "name": "python3"
  },
  "language_info": {
   "codemirror_mode": {
    "name": "ipython",
    "version": 3
   },
   "file_extension": ".py",
   "mimetype": "text/x-python",
   "name": "python",
   "nbconvert_exporter": "python",
   "pygments_lexer": "ipython3",
   "version": "3.10.6"
  }
 },
 "nbformat": 4,
 "nbformat_minor": 5
}
