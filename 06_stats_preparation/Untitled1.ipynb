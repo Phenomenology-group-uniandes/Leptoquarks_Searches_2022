{
 "cells": [
  {
   "cell_type": "code",
   "execution_count": 1,
   "id": "57394b2b-2eb1-4a0a-abf1-d67377d8177b",
   "metadata": {},
   "outputs": [
    {
     "name": "stdout",
     "output_type": "stream",
     "text": [
      "Welcome to JupyROOT 6.26/06\n",
      "Fitting 2 folds for each of 1 candidates, totalling 2 fits\n",
      "the best parameters are {'colsample_bytree': 0.8, 'eta': 0.1, 'learning_rate': 0.1, 'max_depth': 3, 'monotone_constraints': '(1)', 'n_estimators': 75, 'nthread': 4, 'subsample': 0.7}\n"
     ]
    },
    {
     "name": "stderr",
     "output_type": "stream",
     "text": [
      "Info in <TCanvas::Print>: png file /home/crisfer2694/Desktop/Pheno_BSM/Leptoquarks_searches/05_stats_preparation/MLQ_1500/b_tau_tau_hadronic/tau_lq.png has been created\n",
      "Info in <TCanvas::Print>: png file /home/crisfer2694/Desktop/Pheno_BSM/Leptoquarks_searches/05_stats_preparation/MLQ_1500/b_tau_tau_hadronic/lq_lq.png has been created\n",
      "Info in <TCanvas::Print>: png file /home/crisfer2694/Desktop/Pheno_BSM/Leptoquarks_searches/05_stats_preparation/MLQ_1500/b_tau_tau_hadronic/combined.png has been created\n",
      "Info in <TCanvas::Print>: png file /home/crisfer2694/Desktop/Pheno_BSM/Leptoquarks_searches/05_stats_preparation/MLQ_1500/b_tau_tau_hadronic/ttbar.png has been created\n",
      "Info in <TCanvas::Print>: png file /home/crisfer2694/Desktop/Pheno_BSM/Leptoquarks_searches/05_stats_preparation/MLQ_1500/b_tau_tau_hadronic/single_top.png has been created\n",
      "Info in <TCanvas::Print>: png file /home/crisfer2694/Desktop/Pheno_BSM/Leptoquarks_searches/05_stats_preparation/MLQ_1500/b_tau_tau_hadronic/diboson.png has been created\n",
      "Info in <TCanvas::Print>: png file /home/crisfer2694/Desktop/Pheno_BSM/Leptoquarks_searches/05_stats_preparation/MLQ_1500/b_tau_tau_hadronic/v_jets.png has been created\n"
     ]
    },
    {
     "name": "stdout",
     "output_type": "stream",
     "text": [
      "Fitting 2 folds for each of 1 candidates, totalling 2 fits\n",
      "the best parameters are {'colsample_bytree': 0.8, 'eta': 0.1, 'learning_rate': 0.1, 'max_depth': 3, 'monotone_constraints': '(1)', 'n_estimators': 75, 'nthread': 4, 'subsample': 0.7}\n"
     ]
    },
    {
     "name": "stderr",
     "output_type": "stream",
     "text": [
      "Info in <TCanvas::Print>: png file /home/crisfer2694/Desktop/Pheno_BSM/Leptoquarks_searches/05_stats_preparation/MLQ_250/b_tau_tau_hadronic/tau_lq.png has been created\n",
      "Info in <TCanvas::Print>: png file /home/crisfer2694/Desktop/Pheno_BSM/Leptoquarks_searches/05_stats_preparation/MLQ_250/b_tau_tau_hadronic/lq_lq.png has been created\n",
      "Info in <TCanvas::Print>: png file /home/crisfer2694/Desktop/Pheno_BSM/Leptoquarks_searches/05_stats_preparation/MLQ_250/b_tau_tau_hadronic/combined.png has been created\n",
      "Info in <TCanvas::Print>: png file /home/crisfer2694/Desktop/Pheno_BSM/Leptoquarks_searches/05_stats_preparation/MLQ_250/b_tau_tau_hadronic/ttbar.png has been created\n",
      "Info in <TCanvas::Print>: png file /home/crisfer2694/Desktop/Pheno_BSM/Leptoquarks_searches/05_stats_preparation/MLQ_250/b_tau_tau_hadronic/single_top.png has been created\n",
      "Info in <TCanvas::Print>: png file /home/crisfer2694/Desktop/Pheno_BSM/Leptoquarks_searches/05_stats_preparation/MLQ_250/b_tau_tau_hadronic/diboson.png has been created\n",
      "Info in <TCanvas::Print>: png file /home/crisfer2694/Desktop/Pheno_BSM/Leptoquarks_searches/05_stats_preparation/MLQ_250/b_tau_tau_hadronic/v_jets.png has been created\n"
     ]
    },
    {
     "ename": "ValueError",
     "evalue": "scale < 0",
     "output_type": "error",
     "traceback": [
      "\u001b[0;31m---------------------------------------------------------------------------\u001b[0m",
      "\u001b[0;31mValueError\u001b[0m                                Traceback (most recent call last)",
      "Input \u001b[0;32mIn [1]\u001b[0m, in \u001b[0;36m<cell line: 61>\u001b[0;34m()\u001b[0m\n\u001b[1;32m     58\u001b[0m files\u001b[38;5;241m=\u001b[39m[root_file\u001b[38;5;241m.\u001b[39mas_posix() \u001b[38;5;28;01mfor\u001b[39;00m root_file \u001b[38;5;129;01min\u001b[39;00m path_root\u001b[38;5;241m.\u001b[39mglob(\u001b[38;5;124m'\u001b[39m\u001b[38;5;124m**/*.root\u001b[39m\u001b[38;5;124m'\u001b[39m)]\n\u001b[1;32m     60\u001b[0m \u001b[38;5;66;03m#with Pool(n_cpu()) as p: list(p.map(extract_histos,files))\u001b[39;00m\n\u001b[0;32m---> 61\u001b[0m \u001b[38;5;28;43mlist\u001b[39;49m\u001b[43m(\u001b[49m\u001b[38;5;28;43mmap\u001b[39;49m\u001b[43m(\u001b[49m\u001b[43mextract_histos\u001b[49m\u001b[43m,\u001b[49m\u001b[43mfiles\u001b[49m\u001b[43m)\u001b[49m\u001b[43m)\u001b[49m\n",
      "Input \u001b[0;32mIn [1]\u001b[0m, in \u001b[0;36mextract_histos\u001b[0;34m(file)\u001b[0m\n\u001b[1;32m     21\u001b[0m group_dict\u001b[38;5;241m=\u001b[39m{\n\u001b[1;32m     22\u001b[0m     \u001b[38;5;124m\"\u001b[39m\u001b[38;5;124mtau_lq\u001b[39m\u001b[38;5;124m\"\u001b[39m:[\u001b[38;5;124m\"\u001b[39m\u001b[38;5;124mTau_LQ\u001b[39m\u001b[38;5;124m\"\u001b[39m],\n\u001b[1;32m     23\u001b[0m     \u001b[38;5;124m\"\u001b[39m\u001b[38;5;124mlq_lq\u001b[39m\u001b[38;5;124m\"\u001b[39m:[\u001b[38;5;124m\"\u001b[39m\u001b[38;5;124mLQ_LQ\u001b[39m\u001b[38;5;124m\"\u001b[39m],\n\u001b[0;32m   (...)\u001b[0m\n\u001b[1;32m     28\u001b[0m     \u001b[38;5;124m\"\u001b[39m\u001b[38;5;124mv_jets\u001b[39m\u001b[38;5;124m\"\u001b[39m:[\u001b[38;5;124m\"\u001b[39m\u001b[38;5;124mw_jets\u001b[39m\u001b[38;5;124m\"\u001b[39m,\u001b[38;5;124m\"\u001b[39m\u001b[38;5;124mz_jets\u001b[39m\u001b[38;5;124m\"\u001b[39m]\n\u001b[1;32m     29\u001b[0m }\n\u001b[1;32m     30\u001b[0m refine_names\u001b[38;5;241m=\u001b[39m[\n\u001b[1;32m     31\u001b[0m     \u001b[38;5;66;03m#\"bosons\",\u001b[39;00m\n\u001b[1;32m     32\u001b[0m     \u001b[38;5;124m\"\u001b[39m\u001b[38;5;124mttbar\u001b[39m\u001b[38;5;124m\"\u001b[39m\n\u001b[1;32m     33\u001b[0m ]\n\u001b[0;32m---> 34\u001b[0m final_histos\u001b[38;5;241m=\u001b[39m\u001b[43mcombine_histos\u001b[49m\u001b[43m(\u001b[49m\n\u001b[1;32m     35\u001b[0m \u001b[43m    \u001b[49m\u001b[43mhist_dict\u001b[49m\u001b[43m,\u001b[49m\n\u001b[1;32m     36\u001b[0m \u001b[43m    \u001b[49m\u001b[43mgroup_dict\u001b[49m\u001b[43m,\u001b[49m\n\u001b[1;32m     37\u001b[0m \u001b[43m    \u001b[49m\u001b[43mrefine_names\u001b[49m\n\u001b[1;32m     38\u001b[0m \u001b[43m\u001b[49m\u001b[43m)\u001b[49m\n\u001b[1;32m     40\u001b[0m conver_histos_to_txt(final_histos,save_dir)\n\u001b[1;32m     41\u001b[0m [draw_hist(histo,save_dir) \u001b[38;5;28;01mfor\u001b[39;00m histo \u001b[38;5;129;01min\u001b[39;00m final_histos]\n",
      "File \u001b[0;32m~/Desktop/Pheno_BSM/Leptoquarks_searches/05_stats_preparation/refine_histos_tools.py:259\u001b[0m, in \u001b[0;36mcombine_histos\u001b[0;34m(hist_dict, group_dict, refine_names)\u001b[0m\n\u001b[1;32m    257\u001b[0m h\u001b[38;5;241m.\u001b[39mSetTitle(signal\u001b[38;5;241m+\u001b[39m\u001b[38;5;124m\"\u001b[39m\u001b[38;5;124m;ML-score;nevents(137/fb)\u001b[39m\u001b[38;5;124m\"\u001b[39m)\n\u001b[1;32m    258\u001b[0m \u001b[38;5;28;01mif\u001b[39;00m h\u001b[38;5;241m.\u001b[39mGetName() \u001b[38;5;129;01min\u001b[39;00m refine_names:\n\u001b[0;32m--> 259\u001b[0m     h\u001b[38;5;241m=\u001b[39m\u001b[43mrefine_histo\u001b[49m\u001b[43m(\u001b[49m\u001b[43mh\u001b[49m\u001b[43m,\u001b[49m\u001b[43mn_bins\u001b[49m\u001b[43m)\u001b[49m\n\u001b[1;32m    260\u001b[0m h\u001b[38;5;241m.\u001b[39mRebin(\u001b[38;5;28mint\u001b[39m(h\u001b[38;5;241m.\u001b[39mGetNbinsX()\u001b[38;5;241m/\u001b[39mn_bins))\n\u001b[1;32m    261\u001b[0m final_histos\u001b[38;5;241m+\u001b[39m\u001b[38;5;241m=\u001b[39m[h]\n",
      "File \u001b[0;32m~/Desktop/Pheno_BSM/Leptoquarks_searches/05_stats_preparation/refine_histos_tools.py:206\u001b[0m, in \u001b[0;36mrefine_histo\u001b[0;34m(h, n_bins)\u001b[0m\n\u001b[1;32m    204\u001b[0m hist_test\u001b[38;5;241m=\u001b[39mTH1F(h\u001b[38;5;241m.\u001b[39mGetName(),h\u001b[38;5;241m.\u001b[39mGetTitle(),n_bins,\u001b[38;5;241m0.\u001b[39m,\u001b[38;5;241m1.\u001b[39m)\n\u001b[1;32m    205\u001b[0m hist_test\u001b[38;5;241m.\u001b[39mSetDirectory(\u001b[38;5;241m0\u001b[39m)\n\u001b[0;32m--> 206\u001b[0m interp_func \u001b[38;5;241m=\u001b[39m \u001b[43mget_interp_func\u001b[49m\u001b[43m(\u001b[49m\u001b[43mh\u001b[49m\u001b[43m)\u001b[49m\n\u001b[1;32m    207\u001b[0m \u001b[38;5;28;01mfor\u001b[39;00m bin_ \u001b[38;5;129;01min\u001b[39;00m \u001b[38;5;28mrange\u001b[39m(hist_test\u001b[38;5;241m.\u001b[39mGetNbinsX()):\n\u001b[1;32m    208\u001b[0m     hist_test\u001b[38;5;241m.\u001b[39mSetBinContent(bin_\u001b[38;5;241m+\u001b[39m\u001b[38;5;241m1\u001b[39m,interp_func((bin_\u001b[38;5;241m+\u001b[39m\u001b[38;5;241m1\u001b[39m)\u001b[38;5;241m/\u001b[39mn_bins)\u001b[38;5;241m-\u001b[39minterp_func((bin_)\u001b[38;5;241m/\u001b[39mn_bins))\n",
      "File \u001b[0;32m~/Desktop/Pheno_BSM/Leptoquarks_searches/05_stats_preparation/refine_histos_tools.py:213\u001b[0m, in \u001b[0;36mget_interp_func\u001b[0;34m(h, step, pot)\u001b[0m\n\u001b[1;32m    212\u001b[0m \u001b[38;5;28;01mdef\u001b[39;00m \u001b[38;5;21mget_interp_func\u001b[39m(h,step\u001b[38;5;241m=\u001b[39m\u001b[38;5;241m1e-3\u001b[39m,pot\u001b[38;5;241m=\u001b[39m\u001b[38;5;241m2.4\u001b[39m):\n\u001b[0;32m--> 213\u001b[0m     x , y , n_events \u001b[38;5;241m=\u001b[39m \u001b[43mget_data_by_histo\u001b[49m\u001b[43m(\u001b[49m\u001b[43mh\u001b[49m\u001b[43m)\u001b[49m\n\u001b[1;32m    214\u001b[0m     X , Y \u001b[38;5;241m=\u001b[39m interpolate_data(x,y,step,pot)\n\u001b[1;32m    215\u001b[0m     Y\u001b[38;5;241m=\u001b[39msmooth_interpolation_data(Y,step)\n",
      "File \u001b[0;32m~/Desktop/Pheno_BSM/Leptoquarks_searches/05_stats_preparation/refine_histos_tools.py:148\u001b[0m, in \u001b[0;36mget_data_by_histo\u001b[0;34m(h)\u001b[0m\n\u001b[1;32m    145\u001b[0m new_y_inf \u001b[38;5;241m=\u001b[39m interp_func_inf(new_x)\n\u001b[1;32m    147\u001b[0m X\u001b[38;5;241m=\u001b[39mnew_x\n\u001b[0;32m--> 148\u001b[0m Y\u001b[38;5;241m=\u001b[39m[np\u001b[38;5;241m.\u001b[39mrandom\u001b[38;5;241m.\u001b[39mnormal((b\u001b[38;5;241m+\u001b[39ma)\u001b[38;5;241m/\u001b[39m\u001b[38;5;241m2\u001b[39m, (b\u001b[38;5;241m-\u001b[39ma)\u001b[38;5;241m/\u001b[39m\u001b[38;5;241m8\u001b[39m\u001b[38;5;241m+\u001b[39m\u001b[38;5;241m1e-8\u001b[39m) \u001b[38;5;28;01mfor\u001b[39;00m a,b \u001b[38;5;129;01min\u001b[39;00m \u001b[38;5;28mzip\u001b[39m(new_y_inf,new_y_sup)]\n\u001b[1;32m    150\u001b[0m X\u001b[38;5;241m=\u001b[39mnp\u001b[38;5;241m.\u001b[39marray(X)\n\u001b[1;32m    151\u001b[0m Y\u001b[38;5;241m=\u001b[39mnp\u001b[38;5;241m.\u001b[39marray(Y)\n",
      "File \u001b[0;32m~/Desktop/Pheno_BSM/Leptoquarks_searches/05_stats_preparation/refine_histos_tools.py:148\u001b[0m, in \u001b[0;36m<listcomp>\u001b[0;34m(.0)\u001b[0m\n\u001b[1;32m    145\u001b[0m new_y_inf \u001b[38;5;241m=\u001b[39m interp_func_inf(new_x)\n\u001b[1;32m    147\u001b[0m X\u001b[38;5;241m=\u001b[39mnew_x\n\u001b[0;32m--> 148\u001b[0m Y\u001b[38;5;241m=\u001b[39m[\u001b[43mnp\u001b[49m\u001b[38;5;241;43m.\u001b[39;49m\u001b[43mrandom\u001b[49m\u001b[38;5;241;43m.\u001b[39;49m\u001b[43mnormal\u001b[49m\u001b[43m(\u001b[49m\u001b[43m(\u001b[49m\u001b[43mb\u001b[49m\u001b[38;5;241;43m+\u001b[39;49m\u001b[43ma\u001b[49m\u001b[43m)\u001b[49m\u001b[38;5;241;43m/\u001b[39;49m\u001b[38;5;241;43m2\u001b[39;49m\u001b[43m,\u001b[49m\u001b[43m \u001b[49m\u001b[43m(\u001b[49m\u001b[43mb\u001b[49m\u001b[38;5;241;43m-\u001b[39;49m\u001b[43ma\u001b[49m\u001b[43m)\u001b[49m\u001b[38;5;241;43m/\u001b[39;49m\u001b[38;5;241;43m8\u001b[39;49m\u001b[38;5;241;43m+\u001b[39;49m\u001b[38;5;241;43m1e-8\u001b[39;49m\u001b[43m)\u001b[49m \u001b[38;5;28;01mfor\u001b[39;00m a,b \u001b[38;5;129;01min\u001b[39;00m \u001b[38;5;28mzip\u001b[39m(new_y_inf,new_y_sup)]\n\u001b[1;32m    150\u001b[0m X\u001b[38;5;241m=\u001b[39mnp\u001b[38;5;241m.\u001b[39marray(X)\n\u001b[1;32m    151\u001b[0m Y\u001b[38;5;241m=\u001b[39mnp\u001b[38;5;241m.\u001b[39marray(Y)\n",
      "File \u001b[0;32mmtrand.pyx:1510\u001b[0m, in \u001b[0;36mnumpy.random.mtrand.RandomState.normal\u001b[0;34m()\u001b[0m\n",
      "File \u001b[0;32m_common.pyx:595\u001b[0m, in \u001b[0;36mnumpy.random._common.cont\u001b[0;34m()\u001b[0m\n",
      "File \u001b[0;32m_common.pyx:404\u001b[0m, in \u001b[0;36mnumpy.random._common.check_constraint\u001b[0;34m()\u001b[0m\n",
      "\u001b[0;31mValueError\u001b[0m: scale < 0"
     ]
    }
   ],
   "source": [
    "import os\n",
    "from pathlib import Path\n",
    "from scipy import interpolate\n",
    "from ROOT import TFile, TCanvas, TH1F\n",
    "from multiprocessing import Pool\n",
    "from multiprocessing import cpu_count as n_cpu\n",
    "from refine_histos_tools import *\n",
    "\n",
    "\n",
    "\n",
    "def extract_histos(file):\n",
    "    parent_dir=os.path.dirname(file)\n",
    "    save_dir=parent_dir.replace(\n",
    "        os.path.basename(folder_out),\n",
    "        os.path.basename(os.getcwd())\n",
    "    )\n",
    "    #if not (\"b_b_tau_tau\" in file) : return None\n",
    "    !rm -rf {save_dir}/*\n",
    "    !mkdir -p {save_dir}\n",
    "    hist_dict=get_all_dict(file)\n",
    "    group_dict={\n",
    "        \"tau_lq\":[\"Tau_LQ\"],\n",
    "        \"lq_lq\":[\"LQ_LQ\"],\n",
    "        \"combined\":[\"LQ\"],\n",
    "        \"ttbar\": [\"ttbar\",],\n",
    "        \"single_top\": [\"stop\"],\n",
    "        \"diboson\":[\"ww\",\"wz\",\"zz\"],\n",
    "        \"v_jets\":[\"w_jets\",\"z_jets\"]\n",
    "    }\n",
    "    refine_names=[\n",
    "        #\"bosons\",\n",
    "        \"ttbar\"\n",
    "    ]\n",
    "    final_histos=combine_histos(\n",
    "        hist_dict,\n",
    "        group_dict,\n",
    "        refine_names\n",
    "    )\n",
    "    \n",
    "    conver_histos_to_txt(final_histos,save_dir)\n",
    "    [draw_hist(histo,save_dir) for histo in final_histos]\n",
    "    p = Path(file)\n",
    "    f = TFile(\n",
    "        os.path.join(save_dir,p.name),\n",
    "        \"RECREATE\"\n",
    "    )\n",
    "    [h.Write(h.GetName()) for h in final_histos]\n",
    "    \n",
    "    return f\n",
    "\n",
    "\n",
    "\n",
    "folder_out=os.path.join(\n",
    "    os.path.dirname(os.getcwd()),\n",
    "    \"04_ML_classification\"\n",
    ")\n",
    "path_root = Path(folder_out)\n",
    "files=[root_file.as_posix() for root_file in path_root.glob('**/*.root')]\n",
    "\n",
    "#with Pool(n_cpu()) as p: list(p.map(extract_histos,files))\n",
    "list(map(extract_histos,files))"
   ]
  },
  {
   "cell_type": "code",
   "execution_count": null,
   "id": "abf50b84-a559-411c-ac91-4aff35a02e09",
   "metadata": {},
   "outputs": [],
   "source": []
  }
 ],
 "metadata": {
  "kernelspec": {
   "display_name": "Python 3 (ipykernel)",
   "language": "python",
   "name": "python3"
  },
  "language_info": {
   "codemirror_mode": {
    "name": "ipython",
    "version": 3
   },
   "file_extension": ".py",
   "mimetype": "text/x-python",
   "name": "python",
   "nbconvert_exporter": "python",
   "pygments_lexer": "ipython3",
   "version": "3.10.6"
  }
 },
 "nbformat": 4,
 "nbformat_minor": 5
}
