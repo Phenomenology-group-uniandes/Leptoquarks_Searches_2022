{
 "cells": [
  {
   "cell_type": "markdown",
   "id": "b95d1de5-1fa3-4e7d-9b7c-b7040f9300b9",
   "metadata": {},
   "source": [
    "$$\\textrm{Joaquin Peñuela Parra}$$\n",
    "$$\\textrm{Universidad de los Andes}$$\n",
    "$$\\textrm{Grupo de Física de Altas Energías: Fenomenología de Partículas}$$\n",
    "\n",
    "$\\textbf{Preliminares}$ \n",
    "\n",
    "Las librerías que se usan aquí son las siguientes: "
   ]
  },
  {
   "cell_type": "code",
   "execution_count": 1,
   "id": "b83091bd-2a47-4cbc-b0ac-aaf7a17f3f6d",
   "metadata": {},
   "outputs": [],
   "source": [
    "import pandas as pd\n",
    "import seaborn as sns \n",
    "import matplotlib.pyplot as plt\n",
    "import numpy as np"
   ]
  },
  {
   "cell_type": "code",
   "execution_count": 2,
   "id": "c95d6032-24f3-43f4-9b18-c6cef6bc9d64",
   "metadata": {},
   "outputs": [],
   "source": [
    "betards = ['Betard33_minus1', 'Betard33_0']\n",
    "datas = ['Data_5K_13_6_TeV', 'Data_5K_13_TeV']\n",
    "signals = ['LQ_LQ', 'Tau_LQ']"
   ]
  },
  {
   "cell_type": "markdown",
   "id": "e5eb8ec9-fdcb-4b6b-b35d-c942315f1745",
   "metadata": {},
   "source": [
    "Carguemos todas las matrices de XS"
   ]
  },
  {
   "cell_type": "code",
   "execution_count": 3,
   "id": "401433c5-fc9b-46a1-a8d4-8ba3c1af2916",
   "metadata": {},
   "outputs": [],
   "source": [
    "Datasets = {}\n",
    "for betard in betards:\n",
    "    Datasets[betard] = {}\n",
    "    \n",
    "    for data in datas:\n",
    "        for signal in signals:\n",
    "\n",
    "            DataFrame = pd.read_excel(f'XS_Matrix/{betard}/{data}_{signal}.xlsx', index_col = 0)\n",
    "            DataFrame.columns = [float(column) for column in DataFrame.columns]\n",
    "            DataFrame.index = [float(fila) for fila in DataFrame.index]            \n",
    "            Datasets[betard][f'{data}_{signal}'] = DataFrame"
   ]
  },
  {
   "cell_type": "code",
   "execution_count": 4,
   "id": "6fd9be4b-6a81-416e-945b-2081fdb194a9",
   "metadata": {},
   "outputs": [
    {
     "data": {
      "text/plain": [
       "dict_keys(['Data_5K_13_6_TeV_LQ_LQ', 'Data_5K_13_6_TeV_Tau_LQ', 'Data_5K_13_TeV_LQ_LQ', 'Data_5K_13_TeV_Tau_LQ'])"
      ]
     },
     "execution_count": 4,
     "metadata": {},
     "output_type": "execute_result"
    }
   ],
   "source": [
    "Datasets['Betard33_minus1'].keys()"
   ]
  },
  {
   "cell_type": "markdown",
   "id": "7f17b28c-e757-4fbd-9f2c-65e768bce725",
   "metadata": {},
   "source": [
    "Calculemos los K Factors"
   ]
  },
  {
   "cell_type": "code",
   "execution_count": 5,
   "id": "85cacc67-8471-4a00-b731-d11d1e347f6c",
   "metadata": {},
   "outputs": [],
   "source": [
    "!mkdir -p KFactors\n",
    "!mkdir -p KFactors/Betard33_minus1\n",
    "!mkdir -p KFactors/Betard33_0"
   ]
  },
  {
   "cell_type": "code",
   "execution_count": 6,
   "id": "57df427a-e56a-40bc-8658-06ff730c142b",
   "metadata": {},
   "outputs": [],
   "source": [
    "for betard in betards:\n",
    "    for signal in signals:\n",
    "        DataFrame_1 = Datasets[betard][f'Data_5K_13_6_TeV_{signal}']\n",
    "        DataFrame_2 = Datasets[betard][f'Data_5K_13_TeV_{signal}']\n",
    "        DataFrame = DataFrame_1/DataFrame_2\n",
    "        DataFrame.to_excel(f'KFactors/{betard}/{signal}.xlsx')"
   ]
  }
 ],
 "metadata": {
  "kernelspec": {
   "display_name": "Python 3 (ipykernel)",
   "language": "python",
   "name": "python3"
  },
  "language_info": {
   "codemirror_mode": {
    "name": "ipython",
    "version": 3
   },
   "file_extension": ".py",
   "mimetype": "text/x-python",
   "name": "python",
   "nbconvert_exporter": "python",
   "pygments_lexer": "ipython3",
   "version": "3.10.6"
  }
 },
 "nbformat": 4,
 "nbformat_minor": 5
}
