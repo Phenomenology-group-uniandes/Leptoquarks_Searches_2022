{
 "cells": [
  {
   "cell_type": "markdown",
   "id": "e893b278-8149-4004-8eda-7100d51c8115",
   "metadata": {},
   "source": [
    "# **ESTE CÓDIGO SE CORRIÓ EN EL DOCKER**"
   ]
  },
  {
   "cell_type": "code",
   "execution_count": 1,
   "id": "7ec8abdc-4445-435e-af25-e0d678c9ff3e",
   "metadata": {},
   "outputs": [],
   "source": [
    "import pandas as pd\n",
    "import numpy as np\n",
    "\n",
    "personal_folder=\"/disco4/personal_folders/Joaquin/Semanas_13_14_15/betard33_0\""
   ]
  },
  {
   "cell_type": "markdown",
   "id": "9cf8b529-a97b-485b-b541-65cd7e1f72cc",
   "metadata": {},
   "source": [
    "Extraígamos la XS mientras acaba de correr"
   ]
  },
  {
   "cell_type": "code",
   "execution_count": 2,
   "id": "acee1b99-502b-494f-ad4c-d7e9c3d15eba",
   "metadata": {},
   "outputs": [],
   "source": [
    "M = [\"1000\", \"1250\", \"1500\", \"1750\", \"2000\", \"2250\", \"2500\"]\n",
    "g_U = [\"1.8\"]"
   ]
  },
  {
   "cell_type": "code",
   "execution_count": 3,
   "id": "94dc5f0f-d75b-4d40-b55c-b9b9da4f4e9a",
   "metadata": {},
   "outputs": [],
   "source": [
    "xs_lq_ta = np.zeros((len(g_U), len(M)))\n",
    "for j in range(len(M)):\n",
    "    for i in range(len(g_U)):\n",
    "        etiqueta = \"M\" + M[j].replace('.','_') + \"_gU\" + g_U[i].replace('.','_')\n",
    "        \n",
    "        ruta_tabla = f\"{personal_folder}/Data_800K_13_TeV/lq_ta/Cross_Sections/crossx_\" + etiqueta + \".html\"\n",
    "        tabla_ij = pd.read_html(ruta_tabla)\n",
    "        columna_xs = tabla_ij[0]['Cross section (pb)']\n",
    "        xs_lq_ta[i,j] = float(columna_xs[0].split(' ')[0])         \n",
    "        \n",
    "XS_Matriz_lq_ta = pd.DataFrame(xs_lq_ta)\n",
    "XS_Matriz_lq_ta.columns = M\n",
    "XS_Matriz_lq_ta.index = g_U\n",
    "\n",
    "XS_Matriz_lq_ta.to_excel('betard33_0_Tau_LQ_XS_Matriz.xlsx')"
   ]
  },
  {
   "cell_type": "code",
   "execution_count": 4,
   "id": "2c109bbe-441a-4d8d-bbb4-d6546bc4c74c",
   "metadata": {},
   "outputs": [
    {
     "data": {
      "text/html": [
       "<div>\n",
       "<style scoped>\n",
       "    .dataframe tbody tr th:only-of-type {\n",
       "        vertical-align: middle;\n",
       "    }\n",
       "\n",
       "    .dataframe tbody tr th {\n",
       "        vertical-align: top;\n",
       "    }\n",
       "\n",
       "    .dataframe thead th {\n",
       "        text-align: right;\n",
       "    }\n",
       "</style>\n",
       "<table border=\"1\" class=\"dataframe\">\n",
       "  <thead>\n",
       "    <tr style=\"text-align: right;\">\n",
       "      <th></th>\n",
       "      <th>1000</th>\n",
       "      <th>1250</th>\n",
       "      <th>1500</th>\n",
       "      <th>1750</th>\n",
       "      <th>2000</th>\n",
       "      <th>2250</th>\n",
       "      <th>2500</th>\n",
       "    </tr>\n",
       "  </thead>\n",
       "  <tbody>\n",
       "    <tr>\n",
       "      <th>1.8</th>\n",
       "      <td>0.05132</td>\n",
       "      <td>0.01144</td>\n",
       "      <td>0.003047</td>\n",
       "      <td>0.000916</td>\n",
       "      <td>0.000301</td>\n",
       "      <td>0.000106</td>\n",
       "      <td>0.000039</td>\n",
       "    </tr>\n",
       "  </tbody>\n",
       "</table>\n",
       "</div>"
      ],
      "text/plain": [
       "        1000     1250      1500      1750      2000      2250      2500\n",
       "1.8  0.05132  0.01144  0.003047  0.000916  0.000301  0.000106  0.000039"
      ]
     },
     "execution_count": 4,
     "metadata": {},
     "output_type": "execute_result"
    }
   ],
   "source": [
    "XS_Matriz_lq_ta"
   ]
  },
  {
   "cell_type": "code",
   "execution_count": 5,
   "id": "982937fe-385a-4c12-8947-4516c496c950",
   "metadata": {},
   "outputs": [],
   "source": [
    "xs_lq_lq = np.zeros((len(g_U), len(M)))\n",
    "for j in range(len(M)):\n",
    "    for i in range(len(g_U)):\n",
    "        etiqueta = \"M\" + M[j].replace('.','_') + \"_gU\" + g_U[i].replace('.','_')  \n",
    "        \n",
    "        ruta_tabla = f\"{personal_folder}/Data_800K_13_TeV/lq_lq/Cross_Sections/crossx_\" + etiqueta + \".html\"\n",
    "        tabla_ij = pd.read_html(ruta_tabla)\n",
    "        columna_xs = tabla_ij[0]['Cross section (pb)']\n",
    "        xs_lq_lq[i,j] = float(columna_xs[0].split(' ')[0])         \n",
    "        \n",
    "XS_Matriz_lq_lq = pd.DataFrame(xs_lq_lq)\n",
    "XS_Matriz_lq_lq.columns = M\n",
    "XS_Matriz_lq_lq.index = g_U\n",
    "\n",
    "XS_Matriz_lq_lq.to_excel('betard33_0_LQ_LQ_XS_Matriz.xlsx')"
   ]
  },
  {
   "cell_type": "code",
   "execution_count": 6,
   "id": "bf14d1ca-7835-4522-bc02-88832c2152ce",
   "metadata": {},
   "outputs": [
    {
     "data": {
      "text/html": [
       "<div>\n",
       "<style scoped>\n",
       "    .dataframe tbody tr th:only-of-type {\n",
       "        vertical-align: middle;\n",
       "    }\n",
       "\n",
       "    .dataframe tbody tr th {\n",
       "        vertical-align: top;\n",
       "    }\n",
       "\n",
       "    .dataframe thead th {\n",
       "        text-align: right;\n",
       "    }\n",
       "</style>\n",
       "<table border=\"1\" class=\"dataframe\">\n",
       "  <thead>\n",
       "    <tr style=\"text-align: right;\">\n",
       "      <th></th>\n",
       "      <th>1000</th>\n",
       "      <th>1250</th>\n",
       "      <th>1500</th>\n",
       "      <th>1750</th>\n",
       "      <th>2000</th>\n",
       "      <th>2250</th>\n",
       "      <th>2500</th>\n",
       "    </tr>\n",
       "  </thead>\n",
       "  <tbody>\n",
       "    <tr>\n",
       "      <th>1.8</th>\n",
       "      <td>0.1982</td>\n",
       "      <td>0.03348</td>\n",
       "      <td>0.006548</td>\n",
       "      <td>0.001423</td>\n",
       "      <td>0.000331</td>\n",
       "      <td>0.00008</td>\n",
       "      <td>0.00002</td>\n",
       "    </tr>\n",
       "  </tbody>\n",
       "</table>\n",
       "</div>"
      ],
      "text/plain": [
       "       1000     1250      1500      1750      2000     2250     2500\n",
       "1.8  0.1982  0.03348  0.006548  0.001423  0.000331  0.00008  0.00002"
      ]
     },
     "execution_count": 6,
     "metadata": {},
     "output_type": "execute_result"
    }
   ],
   "source": [
    "XS_Matriz_lq_lq"
   ]
  },
  {
   "cell_type": "code",
   "execution_count": 8,
   "id": "97edbf11-4c36-425b-94a0-d521613b6870",
   "metadata": {},
   "outputs": [],
   "source": [
    "import shutil"
   ]
  },
  {
   "cell_type": "code",
   "execution_count": 13,
   "id": "f61c374b-2a10-4e9d-a572-d77556d5aabd",
   "metadata": {},
   "outputs": [],
   "source": [
    "for ruta in ['Data_5K_13_6_TeV', 'Data_5K_13_TeV']:\n",
    "    for signal in ['lq_lq', 'lq_ta']:\n",
    "        origen = f'{personal_folder}/{ruta}/{signal}/Cross_Sections/XS_Matriz.xlsx'\n",
    "        shutil.copyfile(origen, f'{ruta}_{signal}_XS.xlsx')"
   ]
  },
  {
   "cell_type": "code",
   "execution_count": null,
   "id": "1b9164bd-4ed2-41e6-8d7a-8baeb13c5759",
   "metadata": {},
   "outputs": [],
   "source": []
  }
 ],
 "metadata": {
  "kernelspec": {
   "display_name": "Python 3 (ipykernel)",
   "language": "python",
   "name": "python3"
  },
  "language_info": {
   "codemirror_mode": {
    "name": "ipython",
    "version": 3
   },
   "file_extension": ".py",
   "mimetype": "text/x-python",
   "name": "python",
   "nbconvert_exporter": "python",
   "pygments_lexer": "ipython3",
   "version": "3.10.6"
  }
 },
 "nbformat": 4,
 "nbformat_minor": 5
}
